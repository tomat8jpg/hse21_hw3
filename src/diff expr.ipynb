{
 "cells": [
  {
   "cell_type": "code",
   "execution_count": 1,
   "metadata": {},
   "outputs": [],
   "source": [
    "import numpy as np\n",
    "import pandas as pd"
   ]
  },
  {
   "cell_type": "code",
   "execution_count": 10,
   "metadata": {},
   "outputs": [
    {
     "data": {
      "text/plain": [
       "<bound method NDFrame.head of                           baseMean  log2FoldChange     lfcSE       stat  \\\n",
       "ENSMUSG00000000303.12  2782.162617        5.825495  0.142999  40.737966   \n",
       "ENSMUSG00000025608.9   4401.565341        8.312251  0.197505  42.086250   \n",
       "ENSMUSG00000045545.8   4088.207954        9.124409  0.238754  38.216704   \n",
       "ENSMUSG00000047586.4   2408.905954        7.422964  0.196902  37.698770   \n",
       "ENSMUSG00000054889.10  6835.168172        4.652976  0.114967  40.472290   \n",
       "...                            ...             ...       ...        ...   \n",
       "ENSMUSG00000029389.17   310.843121        0.408247  0.138516   2.947296   \n",
       "ENSMUSG00000112952.1      2.572341        4.813469  1.633663   2.946426   \n",
       "ENSMUSG00000024251.10   547.928982        0.335405  0.113848   2.946085   \n",
       "ENSMUSG00000026365.15   690.964367       -0.337369  0.114528  -2.945742   \n",
       "ENSMUSG00000020107.10   749.545823       -0.438455  0.148867  -2.945285   \n",
       "\n",
       "                         pvalue      padj  \n",
       "ENSMUSG00000000303.12  0.000000  0.000000  \n",
       "ENSMUSG00000025608.9   0.000000  0.000000  \n",
       "ENSMUSG00000045545.8   0.000000  0.000000  \n",
       "ENSMUSG00000047586.4   0.000000  0.000000  \n",
       "ENSMUSG00000054889.10  0.000000  0.000000  \n",
       "...                         ...       ...  \n",
       "ENSMUSG00000029389.17  0.003206  0.009916  \n",
       "ENSMUSG00000112952.1   0.003215  0.009943  \n",
       "ENSMUSG00000024251.10  0.003218  0.009952  \n",
       "ENSMUSG00000026365.15  0.003222  0.009962  \n",
       "ENSMUSG00000020107.10  0.003227  0.009975  \n",
       "\n",
       "[6691 rows x 6 columns]>"
      ]
     },
     "execution_count": 10,
     "metadata": {},
     "output_type": "execute_result"
    }
   ],
   "source": [
    "df1 = pd.read_csv('differentially_expressed_genes.txt', sep = '\\t')\n",
    "df1.head"
   ]
  },
  {
   "cell_type": "code",
   "execution_count": 13,
   "metadata": {},
   "outputs": [
    {
     "data": {
      "text/plain": [
       "<bound method NDFrame.head of                           baseMean  log2FoldChange     lfcSE       stat  \\\n",
       "ENSMUSG00000058354.7    623.183969       12.729527  1.183304  10.757617   \n",
       "ENSMUSG00000040728.15   419.790005       12.159395  1.187410  10.240267   \n",
       "ENSMUSG00000039269.5    395.725174       12.076222  1.184590  10.194429   \n",
       "ENSMUSG00000035557.9   5638.815500       11.880152  0.493674  24.064759   \n",
       "ENSMUSG00000046180.11   293.899529       11.645193  1.194274   9.750852   \n",
       "...                            ...             ...       ...        ...   \n",
       "ENSMUSG00000020542.18    10.399553       -3.494795  0.861350  -4.057345   \n",
       "ENSMUSG00000115759.1      7.573481       -3.790056  1.043665  -3.631486   \n",
       "ENSMUSG00000038071.3     14.131245       -3.822048  0.767839  -4.977667   \n",
       "ENSMUSG00000115410.1      2.656151       -4.868313  1.595487  -3.051301   \n",
       "ENSMUSG00000106957.1      2.987570       -5.037982  1.576936  -3.194791   \n",
       "\n",
       "                              pvalue           padj  \n",
       "ENSMUSG00000058354.7    5.456312e-27   1.596376e-25  \n",
       "ENSMUSG00000040728.15   1.308748e-24   3.413802e-23  \n",
       "ENSMUSG00000039269.5    2.099746e-24   5.402145e-23  \n",
       "ENSMUSG00000035557.9   5.849348e-128  2.419875e-125  \n",
       "ENSMUSG00000046180.11   1.829266e-22   4.218325e-21  \n",
       "...                              ...            ...  \n",
       "ENSMUSG00000020542.18   4.963381e-05   2.202693e-04  \n",
       "ENSMUSG00000115759.1    2.817938e-04   1.083641e-03  \n",
       "ENSMUSG00000038071.3    6.435532e-07   3.800142e-06  \n",
       "ENSMUSG00000115410.1    2.278518e-03   7.268838e-03  \n",
       "ENSMUSG00000106957.1    1.399319e-03   4.702667e-03  \n",
       "\n",
       "[6691 rows x 6 columns]>"
      ]
     },
     "execution_count": 13,
     "metadata": {},
     "output_type": "execute_result"
    }
   ],
   "source": [
    "sorted_df1 = df1.sort_values(by='log2FoldChange', ascending=False)\n",
    "sorted_df1.head"
   ]
  },
  {
   "cell_type": "code",
   "execution_count": null,
   "metadata": {},
   "outputs": [],
   "source": []
  }
 ],
 "metadata": {
  "kernelspec": {
   "display_name": "Python 3",
   "language": "python",
   "name": "python3"
  },
  "language_info": {
   "codemirror_mode": {
    "name": "ipython",
    "version": 3
   },
   "file_extension": ".py",
   "mimetype": "text/x-python",
   "name": "python",
   "nbconvert_exporter": "python",
   "pygments_lexer": "ipython3",
   "version": "3.7.6"
  }
 },
 "nbformat": 4,
 "nbformat_minor": 4
}
